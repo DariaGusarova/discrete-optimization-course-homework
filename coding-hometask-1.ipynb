{
 "cells": [
  {
   "cell_type": "code",
   "execution_count": null,
   "metadata": {
    "collapsed": true
   },
   "outputs": [],
   "source": [
    "def solve_bp_decision(weights: list, n_bins: int) -> bool:\n",
    "    def able_to_pack(weights: list, bin_capacities) -> bool:\n",
    "        return weights == [] or any( \n",
    "            able_to_pack( weights[:-1], bin_capacities[:i] + [capacity - weights[-1]] + bin_capacities[(i + 1):] ) \n",
    "            for i, capacity in enumerate(bin_capacities) if capacity >= weights[-1] \n",
    "        )\n",
    "\n",
    "    return able_to_pack( sorted(weights), [1.0] * n_bins )"
   ]
  },
  {
   "cell_type": "code",
   "execution_count": 4,
   "metadata": {
    "collapsed": false
   },
   "outputs": [],
   "source": [
    "def solve_bp_evaluation(weights: list) -> int:\n",
    "    l = 0\n",
    "    r = len(weights)\n",
    "    while (r - l) > 1:\n",
    "        mid = (r + l) // 2\n",
    "        if solve_bp_decision(weights, mid):\n",
    "            r = mid\n",
    "        else:\n",
    "            l = mid\n",
    "    if solve_bp_decision(weights, l):\n",
    "        return l\n",
    "    else:\n",
    "        return r"
   ]
  },
  {
   "cell_type": "code",
   "execution_count": 21,
   "metadata": {
    "collapsed": false
   },
   "outputs": [],
   "source": [
    "def solve_bp_search(weights: list):\n",
    "    n_bins = solve_bp_evaluation(weights)\n",
    "    answer = []\n",
    "    deleted = [] \n",
    "    #deleted - те, что были объединены с чем-то ранее и сейчас на их месте в weights 0\n",
    "    counter = 1\n",
    "    for i in range(0, len(weights)):\n",
    "        j = 0\n",
    "        temp = weights[i]\n",
    "        flag = False \n",
    "        #flag - получилось ли объединить i элемент с каким-нибудь ранее идущим в weights\n",
    "        while j < i and flag == False:\n",
    "            if (deleted[j] == False):\n",
    "                weights[i] = 0\n",
    "                weights[j] += temp\n",
    "                if n_bins == solve_bp_evaluation(weights):\n",
    "                    answer.append(answer[j])\n",
    "                    deleted.append(True)\n",
    "                    flag = True\n",
    "                else:\n",
    "                    weights[i] = temp\n",
    "                    weights[j] -= temp  \n",
    "            j += 1\n",
    "        if flag == False:\n",
    "            answer.append(counter)\n",
    "            counter += 1\n",
    "            deleted.append(False)\n",
    "    return answer"
   ]
  }
 ],
 "metadata": {
  "kernelspec": {
   "display_name": "Python 3",
   "language": "python",
   "name": "python3"
  },
  "language_info": {
   "codemirror_mode": {
    "name": "ipython",
    "version": 3
   },
   "file_extension": ".py",
   "mimetype": "text/x-python",
   "name": "python",
   "nbconvert_exporter": "python",
   "pygments_lexer": "ipython3",
   "version": "3.5.1"
  }
 },
 "nbformat": 4,
 "nbformat_minor": 0
}
